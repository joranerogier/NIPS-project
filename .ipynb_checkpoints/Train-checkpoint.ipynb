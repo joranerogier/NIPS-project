{
 "cells": [
  {
   "cell_type": "code",
   "execution_count": 3,
   "metadata": {},
   "outputs": [],
   "source": [
    "import pickle\n",
    "import numpy as np\n",
    "from keras.models import Sequential\n",
    "from keras.layers import Dense\n",
    "from keras.layers import Dropout\n",
    "from keras.optimizers import Adadelta\n",
    "\n",
    "full_games_x=pickle.load(open(\"his_games_x\", 'rb'))\n",
    "full_games_y=pickle.load(open(\"his_games_y\", 'rb'))"
   ]
  },
  {
   "cell_type": "code",
   "execution_count": 4,
   "metadata": {
    "pycharm": {
     "name": "#%%\n"
    }
   },
   "outputs": [],
   "source": [
    "nn_3 = Sequential()\n",
    "nn_3.add(Dense(150, activation='relu', input_dim=12)) \n",
    "nn_3.add(Dense(150, activation='relu'))\n",
    "nn_3.add(Dense(150, activation='relu'))\n",
    "nn_3.add(Dense(150, activation='relu'))\n",
    "nn_3.add(Dense(150, activation='relu'))\n",
    "nn_3.add(Dropout(0.1))\n",
    "nn_3.add(Dense(150, activation='relu'))\n",
    "nn_3.add(Dense(150, activation='relu'))\n",
    "nn_3.add(Dense(1, activation='linear'))\n",
    "nn_3.compile(loss='mse', optimizer=Adadelta()) # originally Adam"
   ]
  },
  {
   "cell_type": "code",
   "execution_count": 5,
   "metadata": {
    "pycharm": {
     "name": "#%%\n"
    }
   },
   "outputs": [],
   "source": [
    "x_w=[]\n",
    "x_f=[]\n",
    "y_w=[]\n",
    "y_f=[]\n",
    "for i in range(len(full_games_y)):\n",
    "        if full_games_y[i][-1]>2: # If he wins \n",
    "            \n",
    "            curve_y_w=[(np.sqrt(len(full_games_y[i])+j)/np.sqrt(len(full_games_y[i]))/2) for j in range(len(full_games_y[i]))]\n",
    "            y_w.append(np.array(curve_y_w))\n",
    "            x_w.append(np.array(full_games_x[i]))\n",
    "        \n",
    "        if full_games_y[i][-1]<2:\n",
    "            curve_y_f = [(np.sqrt(len(full_games_y[i])-j)/np.sqrt(len(full_games_y[i]))/2) for j in range(len(full_games_y[i]))]\n",
    "            y_f.append(np.array(curve_y_f))\n",
    "            x_f.append(np.array(full_games_x[i]))"
   ]
  },
  {
   "cell_type": "code",
   "execution_count": 6,
   "metadata": {
    "pycharm": {
     "name": "#%%\n"
    }
   },
   "outputs": [
    {
     "name": "stdout",
     "output_type": "stream",
     "text": [
      "Epoch 1/2\n",
      "334144/334144 [==============================] - 34s 103us/step - loss: 0.0187\n",
      "Epoch 2/2\n",
      "334144/334144 [==============================] - 35s 105us/step - loss: 0.0173\n",
      "I know kung fu\n"
     ]
    }
   ],
   "source": [
    "# Unpack each of the games and train\n",
    "flat_x_w = [] # Win scenario states\n",
    "for sublist in x_w:\n",
    "    for item in sublist:\n",
    "        flat_x_w.append(item)\n",
    "        \n",
    "flat_y_w = [] # Win scenario Q values\n",
    "for sublist in y_w:\n",
    "    for item in sublist:\n",
    "        flat_y_w.append(item)\n",
    "        \n",
    "flat_x_f =[] # Fail states\n",
    "for sublist in x_f:\n",
    "    for item in sublist:\n",
    "        flat_x_f.append(item)\n",
    "flat_y_f =[] # Fail Q values\n",
    "for sublist in y_f:\n",
    "    for item in sublist:\n",
    "        flat_y_f.append(item)\n",
    "# Now we concatenate al scenarios take random subsamples (similar to the replay buffer)\n",
    "nn_3.fit(np.array(flat_x_w+flat_x_f),np.array(flat_y_w +flat_y_f),batch_size=100,epochs=2,verbose=1,shuffle=True)\n",
    "print(\"I know kung fu\")\n"
   ]
  },
  {
   "cell_type": "code",
   "execution_count": null,
   "metadata": {
    "pycharm": {
     "name": "#%%\n"
    }
   },
   "outputs": [],
   "source": [
    "pickle.dump(nn_3.fit, open(('nn_82%_50games_8X150n.sav' , 'wb'))"
   ]
  },
  {
   "cell_type": "code",
   "execution_count": 15,
   "metadata": {},
   "outputs": [],
   "source": []
  },
  {
   "cell_type": "code",
   "execution_count": 16,
   "metadata": {},
   "outputs": [],
   "source": [
    "x_w=[]\n",
    "x_f=[]\n",
    "y_w=[]\n",
    "y_f=[]\n",
    "for i in range(len(full_games_y)):\n",
    "        if full_games_y[i][-1]>2: # If he wins \n",
    "            \n",
    "            curve_y_w=[(np.sqrt(len(full_games_y[i])+j)/np.sqrt(len(full_games_y[i]))/2) for j in range(len(full_games_y[i]))]\n",
    "            y_w.append(np.array(curve_y_w))\n",
    "            x_w.append(np.array(full_games_x[i]))\n",
    "        \n",
    "        if full_games_y[i][-1]<2:\n",
    "            curve_y_f = [(np.sqrt(len(full_games_y[i])-j)/np.sqrt(len(full_games_y[i]))/2) for j in range(len(full_games_y[i]))]\n",
    "            y_f.append(np.array(curve_y_f))\n",
    "            x_f.append(np.array(full_games_x[i]))"
   ]
  },
  {
   "cell_type": "code",
   "execution_count": null,
   "metadata": {},
   "outputs": [
    {
     "name": "stdout",
     "output_type": "stream",
     "text": [
      "Epoch 1/2\n",
      "343500/345615 [============================>.] - ETA: 0s - loss: 0.0187"
     ]
    }
   ],
   "source": [
    "# Unpack each of the games and train\n",
    "flat_x_w = [] # Win scenario states\n",
    "for sublist in x_w:\n",
    "    for item in sublist:\n",
    "        flat_x_w.append(item)\n",
    "        \n",
    "flat_y_w = [] # Win scenario Q values\n",
    "for sublist in y_w:\n",
    "    for item in sublist:\n",
    "        flat_y_w.append(item)\n",
    "        \n",
    "flat_x_f =[] # Fail states\n",
    "for sublist in x_f:\n",
    "    for item in sublist:\n",
    "        flat_x_f.append(item)\n",
    "flat_y_f =[] # Fail Q values\n",
    "for sublist in y_f:\n",
    "    for item in sublist:\n",
    "        flat_y_f.append(item)\n",
    "# Now we concatenate al scenarios take random subsamples (similar to the replay buffer)\n",
    "nn_3.fit(np.array(flat_x_w+flat_x_f),np.array(flat_y_w +flat_y_f),batch_size=100,epochs=2,verbose=1,shuffle=True)\n",
    "print(\"I know kung fu\")\n"
   ]
  },
  {
   "cell_type": "code",
   "execution_count": null,
   "metadata": {},
   "outputs": [],
   "source": []
  }
 ],
 "metadata": {
  "kernelspec": {
   "display_name": "Python 3",
   "language": "python",
   "name": "python3"
  },
  "language_info": {
   "codemirror_mode": {
    "name": "ipython",
    "version": 3
   },
   "file_extension": ".py",
   "mimetype": "text/x-python",
   "name": "python",
   "nbconvert_exporter": "python",
   "pygments_lexer": "ipython3",
   "version": "3.6.8"
  },
  "pycharm": {
   "stem_cell": {
    "cell_type": "raw",
    "metadata": {
     "collapsed": false
    },
    "source": []
   }
  }
 },
 "nbformat": 4,
 "nbformat_minor": 1
}
